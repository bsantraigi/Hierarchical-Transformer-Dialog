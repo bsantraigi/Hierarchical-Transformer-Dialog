{
 "cells": [
  {
   "cell_type": "code",
   "execution_count": 1,
   "metadata": {},
   "outputs": [],
   "source": [
    "%load_ext autoreload\n",
    "%autoreload 2"
   ]
  },
  {
   "cell_type": "code",
   "execution_count": 2,
   "metadata": {},
   "outputs": [],
   "source": [
    "import re"
   ]
  },
  {
   "cell_type": "code",
   "execution_count": 3,
   "metadata": {},
   "outputs": [],
   "source": [
    "all_samples = {}\n",
    "\n",
    "with open('pred_greedy_test_org.txt') as f:\n",
    "    for l in f:\n",
    "        l = l.strip()\n",
    "        m = re.match(\"^([^\\ ]+ [^\\ ]+):(.*)$\", l)\n",
    "        if m is not None:\n",
    "            k = m.group(1)\n",
    "            if k not in all_samples:\n",
    "                all_samples[k] = []\n",
    "            all_samples[k].append(m.group(2))\n",
    "            "
   ]
  },
  {
   "cell_type": "code",
   "execution_count": 4,
   "metadata": {},
   "outputs": [
    {
     "data": {
      "text/plain": [
       "dict_keys(['BS Gold', 'BS Pred', 'DA Gold', 'DA Pred', 'Gold sentence', 'SOS 17', 'SOS 16', 'SOS 13', 'SOS 15', 'SOS 05', 'SOS 9', 'SOS 18'])"
      ]
     },
     "execution_count": 4,
     "metadata": {},
     "output_type": "execute_result"
    }
   ],
   "source": [
    "all_samples.keys()"
   ]
  },
  {
   "cell_type": "code",
   "execution_count": 5,
   "metadata": {},
   "outputs": [],
   "source": [
    "bs_pred = [v.strip() for v in all_samples['BS Pred']]\n",
    "bs_gold = [v.strip() for v in all_samples['BS Gold']]"
   ]
  },
  {
   "cell_type": "code",
   "execution_count": 6,
   "metadata": {},
   "outputs": [
    {
     "data": {
      "text/plain": [
       "True"
      ]
     },
     "execution_count": 6,
     "metadata": {},
     "output_type": "execute_result"
    }
   ],
   "source": [
    "len(bs_gold) == len(bs_pred)"
   ]
  },
  {
   "cell_type": "code",
   "execution_count": 7,
   "metadata": {},
   "outputs": [],
   "source": [
    "from accuracy import joint_accuracy, slot_accuracy"
   ]
  },
  {
   "cell_type": "code",
   "execution_count": 8,
   "metadata": {},
   "outputs": [],
   "source": [
    "prediction = []\n",
    "target = []\n",
    "for pred, gold in zip(bs_pred, bs_gold):\n",
    "    prediction.append(sorted(re.split(' *, *', pred)))\n",
    "    target.append(sorted(re.split(' *, *', gold)))"
   ]
  },
  {
   "cell_type": "code",
   "execution_count": 9,
   "metadata": {},
   "outputs": [
    {
     "name": "stdout",
     "output_type": "stream",
     "text": [
      "0.46893651654910473\n"
     ]
    }
   ],
   "source": [
    "ja = joint_accuracy(target, prediction, d_c = False,type2_c = False)\n",
    "print(ja)"
   ]
  },
  {
   "cell_type": "code",
   "execution_count": 15,
   "metadata": {},
   "outputs": [],
   "source": [
    "prediction = []\n",
    "target = []\n",
    "for pred, gold in zip(bs_pred, bs_gold):\n",
    "    prediction.append(sorted(re.split(' *, *', pred)))\n",
    "    target.append(sorted(re.split(' *, *', gold)))"
   ]
  },
  {
   "cell_type": "code",
   "execution_count": 22,
   "metadata": {},
   "outputs": [
    {
     "name": "stdout",
     "output_type": "stream",
     "text": [
      "0.5988876831253391\n"
     ]
    }
   ],
   "source": [
    "sa = slot_accuracy(target, prediction)\n",
    "print(sa)"
   ]
  },
  {
   "cell_type": "code",
   "execution_count": null,
   "metadata": {},
   "outputs": [],
   "source": []
  }
 ],
 "metadata": {
  "kernelspec": {
   "display_name": "Python 3",
   "language": "python",
   "name": "python3"
  },
  "language_info": {
   "codemirror_mode": {
    "name": "ipython",
    "version": 3
   },
   "file_extension": ".py",
   "mimetype": "text/x-python",
   "name": "python",
   "nbconvert_exporter": "python",
   "pygments_lexer": "ipython3",
   "version": "3.7.8"
  }
 },
 "nbformat": 4,
 "nbformat_minor": 4
}
