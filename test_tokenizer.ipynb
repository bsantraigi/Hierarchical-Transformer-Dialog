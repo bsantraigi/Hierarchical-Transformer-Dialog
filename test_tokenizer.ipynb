{
 "cells": [
  {
   "cell_type": "code",
   "execution_count": 15,
   "metadata": {},
   "outputs": [],
   "source": [
    "from tokenizers import ByteLevelBPETokenizer, Tokenizer\n",
    "import tempfile\n",
    "import os\n",
    "import json"
   ]
  },
  {
   "cell_type": "code",
   "execution_count": 16,
   "metadata": {},
   "outputs": [
    {
     "name": "stdout",
     "output_type": "stream",
     "text": [
      "Vocab Exists:  ./data/mwoz-bpe.tokenizer.json\n",
      "5694\n"
     ]
    }
   ],
   "source": [
    "def build_vocab_freqbased(V_PATH=\"./data/mwoz-bpe.tokenizer.json\", recreate=False): # [ no of turns , src, tgt, act_vecs, hierarchial_act_vecs]\n",
    "    if not recreate:\n",
    "        if os.path.exists(V_PATH):\n",
    "            print(\"Vocab Exists: \", V_PATH)\n",
    "            # tokenizer = ByteLevelBPETokenizer()\n",
    "            tokenizer = Tokenizer.from_file(V_PATH)\n",
    "            return tokenizer\n",
    "        \n",
    "    split_name = 'train'\n",
    "    file_path = 'hdsa_data/hdsa_data/'\n",
    "    data_dir = 'data'\n",
    "    dataset_file = open(file_path+split_name+'.json', 'r')\n",
    "    dataset = json.load(dataset_file)\n",
    "\n",
    "    idxtoword = {}\n",
    "    wordtoidx ={}\n",
    "    idxtoword[0]='PAD'\n",
    "    idxtoword[1]='UNK'\n",
    "    idxtoword[2] = 'SOS'\n",
    "    idxtoword[3]='EOS'\n",
    "    i = 4\n",
    "    \n",
    "    lines = []\n",
    "    for x in dataset:\n",
    "        dialog_file = x['file']\n",
    "        src = []\n",
    "        for turn_num, turn in enumerate(x['info']):\n",
    "            user= turn['user'].lower().strip()\n",
    "            sys = turn['sys'].lower().strip()\n",
    "            lines.append(user)\n",
    "            lines.append(sys)\n",
    "\n",
    "    print(f\"{len(lines)} lines in data.\")\n",
    "    # write to tmp\n",
    "    fp = tempfile.NamedTemporaryFile(\"w\", delete=False)\n",
    "    for l in lines:\n",
    "        fp.write(l+\"\\n\")\n",
    "    fp.close()\n",
    "    print(fp.name)\n",
    "    \n",
    "    # build tokenizer\n",
    "    tokenizer = ByteLevelBPETokenizer()\n",
    "    tokenizer.train([fp.name], \n",
    "                    vocab_size=30000 , \n",
    "                    special_tokens=[\"PAD\", \"SOS\", \"EOS\", \"UNK\"]\n",
    "                   )\n",
    "    tokenizer.save(V_PATH)\n",
    "    \n",
    "    # delete tmp file\n",
    "    os.system(f\"rm {fp.name}\")\n",
    "    return tokenizer\n",
    "\n",
    "\n",
    "tokenizer = build_vocab_freqbased()\n",
    "vocab_size = len(tokenizer.get_vocab())\n",
    "print(vocab_size)"
   ]
  },
  {
   "cell_type": "code",
   "execution_count": 17,
   "metadata": {},
   "outputs": [],
   "source": [
    "# tokenizer.get_vocab()"
   ]
  },
  {
   "cell_type": "code",
   "execution_count": 18,
   "metadata": {},
   "outputs": [],
   "source": [
    "inp = tokenizer.encode(\"there is [value_count] that arrives at [train_arriveby] . how many tickets do you need ? EOS\")"
   ]
  },
  {
   "cell_type": "code",
   "execution_count": 19,
   "metadata": {},
   "outputs": [
    {
     "name": "stdout",
     "output_type": "stream",
     "text": [
      "[489, 307, 265, 300, 66, 321, 64, 337, 707, 357, 265, 317, 66, 514, 64, 267, 618, 626, 730, 382, 274, 352, 283, 224, 2]\n"
     ]
    }
   ],
   "source": [
    "print(inp.ids)"
   ]
  },
  {
   "cell_type": "code",
   "execution_count": 20,
   "metadata": {},
   "outputs": [],
   "source": [
    "vocab_dict = tokenizer.get_vocab()\n",
    "inv_vocab_dict = {v: k for (k, v) in vocab_dict.items()}\n",
    "def convert_ids_to_tokens(id_list):\n",
    "  tokens = []\n",
    "  for ids in id_list:\n",
    "    tokens.append(inv_vocab_dict[ids])\n",
    "  return tokens"
   ]
  },
  {
   "cell_type": "code",
   "execution_count": 21,
   "metadata": {},
   "outputs": [
    {
     "name": "stdout",
     "output_type": "stream",
     "text": [
      "['there', 'Ġis', 'Ġ[', 'value', '_', 'count', ']', 'Ġthat', 'Ġarrives', 'Ġat', 'Ġ[', 'train', '_', 'arriveby', ']', 'Ġ.', 'Ġhow', 'Ġmany', 'Ġtickets', 'Ġdo', 'Ġyou', 'Ġneed', 'Ġ?', 'Ġ', 'EOS']\n"
     ]
    }
   ],
   "source": [
    "print(convert_ids_to_tokens(inp.ids))"
   ]
  },
  {
   "cell_type": "code",
   "execution_count": 22,
   "metadata": {},
   "outputs": [
    {
     "data": {
      "text/plain": [
       "'there is [value_count] that arrives at [train_arriveby] . how many tickets do you need ? '"
      ]
     },
     "execution_count": 22,
     "metadata": {},
     "output_type": "execute_result"
    }
   ],
   "source": [
    "tokenizer.decode(inp.ids)"
   ]
  },
  {
   "cell_type": "code",
   "execution_count": 26,
   "metadata": {},
   "outputs": [
    {
     "data": {
      "text/plain": [
       "2"
      ]
     },
     "execution_count": 26,
     "metadata": {},
     "output_type": "execute_result"
    }
   ],
   "source": []
  },
  {
   "cell_type": "code",
   "execution_count": null,
   "metadata": {},
   "outputs": [],
   "source": []
  }
 ],
 "metadata": {
  "kernelspec": {
   "display_name": "Python 3",
   "language": "python",
   "name": "python3"
  },
  "language_info": {
   "codemirror_mode": {
    "name": "ipython",
    "version": 3
   },
   "file_extension": ".py",
   "mimetype": "text/x-python",
   "name": "python",
   "nbconvert_exporter": "python",
   "pygments_lexer": "ipython3",
   "version": "3.7.8"
  }
 },
 "nbformat": 4,
 "nbformat_minor": 4
}
