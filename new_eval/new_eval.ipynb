{
 "cells": [
  {
   "cell_type": "code",
   "execution_count": 1,
   "metadata": {},
   "outputs": [],
   "source": [
    "import json\n",
    "import os\n",
    "\n",
    "from evaluate import *\n",
    "import pandas as pd"
   ]
  },
  {
   "cell_type": "markdown",
   "metadata": {},
   "source": [
    "# Evaluating model predictions"
   ]
  },
  {
   "cell_type": "code",
   "execution_count": 6,
   "metadata": {},
   "outputs": [],
   "source": [
    "def budzianowski_eval(model_folder, mode, x):\n",
    "    evaluator = MultiWozEvaluator(mode)\n",
    "    # GT\n",
    "    # with open(\"./data/test_dials.json\", \"r\") as f:\n",
    "    #     human_raw_data = json.load(f)\n",
    "    # HIER\n",
    "    prediction_json = \"{}/model_turns_{}_test.json\".format(model_folder, x)\n",
    "    if os.path.isfile(prediction_json):\n",
    "        print(\"\\nDecoding Method:\", x.upper(), '\\n-------------------')\n",
    "        with open(prediction_json, \"r\") as f:\n",
    "            _temp_gen = json.load(f)\n",
    "        generated_data = {}\n",
    "        for key, value in list(_temp_gen.items()):\n",
    "            generated_data[key + '.json'] = value\n",
    "\n",
    "        # PROVIDE HERE YOUR GENERATED DIALOGUES INSTEAD\n",
    "        # generated_data = human_proc_data\n",
    "        # for key, value in human_raw_data.items():\n",
    "        #     human_proc_data[key] = value['sys'] # Array of system utterances\n",
    "\n",
    "        _, _, _, all_match_success = evaluator.evaluateModel(generated_data, mode=mode)\n",
    "\n",
    "        # Match and Success stats\n",
    "        pred_file = prediction_json.replace(\"model_turns\", \"stats\").replace(\"json\", \"tsv\")\n",
    "        all_match_success = pd.DataFrame.from_records(all_match_success)\n",
    "        all_match_success.to_csv(pred_file, sep=\"\\t\", index=False)\n",
    "    else:\n",
    "        print(\"skip\", x.upper(), '\\n')"
   ]
  },
  {
   "cell_type": "code",
   "execution_count": 8,
   "metadata": {},
   "outputs": [
    {
     "name": "stdout",
     "output_type": "stream",
     "text": [
      "\n",
      "Decoding Method: GREEDY \n",
      "-------------------\n",
      "test Corpus Matches : 86.70%\n",
      "test Corpus Success : 75.90%\n",
      "test Corpus BLEU : 0.00%\n",
      "Total number of dialogues: 1000 \n"
     ]
    }
   ],
   "source": [
    "# Test run\n",
    "\n",
    "# ## Evaluating model predictions\n",
    "model_folder = \"../running/transformer_hier++/\"\n",
    "mode = \"test\"\n",
    "# for x in ['greedy', 'beam_2', 'beam_3', 'beam_5']:\n",
    "budzianowski_eval(model_folder, mode, \"greedy\")"
   ]
  },
  {
   "cell_type": "code",
   "execution_count": 10,
   "metadata": {},
   "outputs": [],
   "source": [
    "# budzianowski_eval(model_folder, mode, \"beam_2\")"
   ]
  },
  {
   "cell_type": "code",
   "execution_count": null,
   "metadata": {},
   "outputs": [],
   "source": []
  }
 ],
 "metadata": {
  "kernelspec": {
   "display_name": "Python 3",
   "language": "python",
   "name": "python3"
  },
  "language_info": {
   "codemirror_mode": {
    "name": "ipython",
    "version": 3
   },
   "file_extension": ".py",
   "mimetype": "text/x-python",
   "name": "python",
   "nbconvert_exporter": "python",
   "pygments_lexer": "ipython3",
   "version": "3.7.8"
  }
 },
 "nbformat": 4,
 "nbformat_minor": 4
}
