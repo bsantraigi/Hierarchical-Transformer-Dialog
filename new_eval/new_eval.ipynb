{
 "cells": [
  {
   "cell_type": "code",
   "execution_count": 1,
   "metadata": {},
   "outputs": [],
   "source": [
    "# import math\n",
    "# import utils.delexicalize as delex\n",
    "# from collections import Counter\n",
    "# from nltk.util import ngrams\n",
    "import json\n",
    "# from utils.nlp import normalize\n",
    "# import sqlite3\n",
    "import os\n",
    "# import random\n",
    "# import logging\n",
    "# from utils.nlp import BLEUScorer\n",
    "\n",
    "from evaluate import *\n",
    "import pandas as pd"
   ]
  },
  {
   "cell_type": "markdown",
   "metadata": {},
   "source": [
    "## Evaluating model predictions"
   ]
  },
  {
   "cell_type": "code",
   "execution_count": 2,
   "metadata": {},
   "outputs": [],
   "source": [
    "mode = \"test\"\n",
    "evaluator = MultiWozEvaluator(mode)"
   ]
  },
  {
   "cell_type": "code",
   "execution_count": 3,
   "metadata": {},
   "outputs": [],
   "source": [
    "# GT\n",
    "# with open(\"./data/test_dials.json\", \"r\") as f:\n",
    "#     human_raw_data = json.load(f)"
   ]
  },
  {
   "cell_type": "code",
   "execution_count": 4,
   "metadata": {},
   "outputs": [
    {
     "name": "stdout",
     "output_type": "stream",
     "text": [
      "\n",
      "Decoding Method: GREEDY \n",
      "-------------------\n",
      "test Corpus Matches : 88.80%\n",
      "test Corpus Success : 83.10%\n",
      "test Corpus BLEU : 0.00%\n",
      "Total number of dialogues: 1000 \n",
      "skip BEAM_2 \n",
      "\n",
      "skip BEAM_3 \n",
      "\n",
      "skip BEAM_5 \n",
      "\n"
     ]
    }
   ],
   "source": [
    "# HIER\n",
    "model_folder = \"../running/bpe_hier++\"\n",
    "for x in ['greedy', 'beam_2', 'beam_3', 'beam_5']:\n",
    "    prediction_json = \"{}/model_turns_{}_test.json\".format(model_folder, x)\n",
    "    if os.path.isfile(prediction_json):\n",
    "        print \"\\nDecoding Method:\", x.upper(), '\\n-------------------'\n",
    "        with open(prediction_json, \"r\") as f:\n",
    "            _temp_gen = json.load(f)\n",
    "        generated_data = {}\n",
    "        for key, value in _temp_gen.items():\n",
    "            generated_data[key + '.json'] = value\n",
    "\n",
    "        # PROVIDE HERE YOUR GENERATED DIALOGUES INSTEAD\n",
    "        # generated_data = human_proc_data\n",
    "        # for key, value in human_raw_data.items():\n",
    "        #     human_proc_data[key] = value['sys'] # Array of system utterances\n",
    "\n",
    "        _, _, _, all_match_success = evaluator.evaluateModel(generated_data, mode=mode)\n",
    "\n",
    "        # Match and Success stats\n",
    "        pred_file = prediction_json.replace(\"model_turns\", \"stats\").replace(\"json\", \"tsv\")\n",
    "        all_match_success = pd.DataFrame.from_records(all_match_success)\n",
    "        all_match_success.to_csv(pred_file, sep=\"\\t\", index=False)\n",
    "    else:\n",
    "        print \"skip\", x.upper(), '\\n'"
   ]
  },
  {
   "cell_type": "code",
   "execution_count": null,
   "metadata": {},
   "outputs": [],
   "source": []
  }
 ],
 "metadata": {
  "kernelspec": {
   "display_name": "Python (py2)",
   "language": "python",
   "name": "py2"
  },
  "language_info": {
   "codemirror_mode": {
    "name": "ipython",
    "version": 2
   },
   "file_extension": ".py",
   "mimetype": "text/x-python",
   "name": "python",
   "nbconvert_exporter": "python",
   "pygments_lexer": "ipython2",
   "version": "2.7.15"
  }
 },
 "nbformat": 4,
 "nbformat_minor": 4
}
